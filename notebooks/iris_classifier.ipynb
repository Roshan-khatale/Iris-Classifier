{
  "cells": [
    {
      "cell_type": "code",
      "execution_count": null,
      "metadata": {},
      "outputs": [],
      "source": [
        "import pandas as pd\n",
        "from sklearn.datasets import load_iris\n",
        "from sklearn.tree import DecisionTreeClassifier\n",
        "from sklearn.metrics import accuracy_score\n\n",
        "iris = load_iris(as_frame=True)\n",
        "df = iris.frame\n",
        "X = df.drop('target', axis=1)\n",
        "y = df['target']\n\n",
        "model = DecisionTreeClassifier()\n",
        "model.fit(X, y)\n",
        "print(f\"Accuracy: {model.score(X, y):.2f}\")"
      ]
    }
  ],
  "metadata": {},
  "nbformat": 4,
  "nbformat_minor": 5
}